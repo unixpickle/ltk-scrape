{
 "cells": [
  {
   "cell_type": "code",
   "execution_count": 2,
   "metadata": {},
   "outputs": [],
   "source": [
    "import sqlite3\n",
    "from collections import Counter"
   ]
  },
  {
   "cell_type": "code",
   "execution_count": 3,
   "metadata": {},
   "outputs": [],
   "source": [
    "db = sqlite3.connect('/Volumes/MLData2/ltk/db.db')"
   ]
  },
  {
   "cell_type": "code",
   "execution_count": 4,
   "metadata": {},
   "outputs": [],
   "source": [
    "def print_counts(counts):\n",
    "    n = 0\n",
    "    for k, v in sorted(counts.items(), key=lambda x: x[1], reverse=True):\n",
    "        print(k, v / 100000)\n",
    "        n += 1\n",
    "        if n == 128:\n",
    "            break"
   ]
  },
  {
   "cell_type": "code",
   "execution_count": 4,
   "metadata": {},
   "outputs": [],
   "source": [
    "# Count hashtags\n",
    "captions = [x[0] for x in db.cursor().execute(\"SELECT caption FROM ltks LIMIT 100000\")]\n",
    "counts = Counter()\n",
    "for row in captions:\n",
    "    for word in row.lower().split():\n",
    "        if word.startswith('#'):\n",
    "            counts[word] += 1\n",
    "print_counts(counts)"
   ]
  },
  {
   "cell_type": "code",
   "execution_count": null,
   "metadata": {},
   "outputs": [],
   "source": [
    "# Count product retailers\n",
    "retailers = [x[0] for x in db.cursor().execute(\"SELECT retailer_display_name FROM products LIMIT 100000\")]\n",
    "counts = Counter(retailers)\n",
    "print_counts(counts)"
   ]
  }
 ],
 "metadata": {
  "kernelspec": {
   "display_name": "Python 3",
   "language": "python",
   "name": "python3"
  },
  "language_info": {
   "codemirror_mode": {
    "name": "ipython",
    "version": 3
   },
   "file_extension": ".py",
   "mimetype": "text/x-python",
   "name": "python",
   "nbconvert_exporter": "python",
   "pygments_lexer": "ipython3",
   "version": "3.9.6"
  }
 },
 "nbformat": 4,
 "nbformat_minor": 2
}
